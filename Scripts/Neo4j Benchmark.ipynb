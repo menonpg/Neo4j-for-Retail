{
 "cells": [
  {
   "cell_type": "code",
   "execution_count": 1,
   "metadata": {},
   "outputs": [],
   "source": [
    "from neo4jrestclient.client import GraphDatabase"
   ]
  },
  {
   "cell_type": "code",
   "execution_count": 2,
   "metadata": {},
   "outputs": [],
   "source": [
    "db = GraphDatabase(\"http://localhost:7474\", username = \"user1\", password = \"password\")"
   ]
  },
  {
   "cell_type": "code",
   "execution_count": 3,
   "metadata": {},
   "outputs": [],
   "source": [
    "def execute_query(query):\n",
    "    \n",
    "    results = db.query(query)"
   ]
  },
  {
   "cell_type": "code",
   "execution_count": 8,
   "metadata": {},
   "outputs": [],
   "source": [
    "query = \"MATCH (u:User {user:'18710'})-[:PURCHASES]->(i:Item)<-[:PURCHASES]-(peer:User)-[:PURCHASES]->(reco:Item) WHERE not (u)-[:PURCHASES]->(reco) RETURN reco as Recommendation, count(*) as Frequency ORDER BY Frequency DESC LIMIT 50;\""
   ]
  },
  {
   "cell_type": "code",
   "execution_count": 10,
   "metadata": {},
   "outputs": [
    {
     "name": "stdout",
     "output_type": "stream",
     "text": [
      "CPU times: user 4.97 ms, sys: 8.99 ms, total: 14 ms\n",
      "Wall time: 6.27 s\n",
      "CPU times: user 3.26 ms, sys: 770 µs, total: 4.03 ms\n",
      "Wall time: 5.37 s\n",
      "CPU times: user 3.24 ms, sys: 592 µs, total: 3.83 ms\n",
      "Wall time: 5.4 s\n",
      "CPU times: user 3.26 ms, sys: 690 µs, total: 3.95 ms\n",
      "Wall time: 5.34 s\n",
      "CPU times: user 3.04 ms, sys: 532 µs, total: 3.57 ms\n",
      "Wall time: 5.37 s\n",
      "CPU times: user 3.28 ms, sys: 539 µs, total: 3.82 ms\n",
      "Wall time: 6.37 s\n",
      "CPU times: user 3.72 ms, sys: 542 µs, total: 4.26 ms\n",
      "Wall time: 6.42 s\n",
      "CPU times: user 3.9 ms, sys: 679 µs, total: 4.58 ms\n",
      "Wall time: 5.82 s\n",
      "CPU times: user 3.43 ms, sys: 981 µs, total: 4.41 ms\n",
      "Wall time: 6.05 s\n",
      "CPU times: user 3.64 ms, sys: 502 µs, total: 4.14 ms\n",
      "Wall time: 6.02 s\n"
     ]
    }
   ],
   "source": [
    "for i in range(10):\n",
    "    %time execute_query(query)"
   ]
  },
  {
   "cell_type": "code",
   "execution_count": null,
   "metadata": {},
   "outputs": [],
   "source": []
  }
 ],
 "metadata": {
  "kernelspec": {
   "display_name": "Python 3",
   "language": "python",
   "name": "python3"
  },
  "language_info": {
   "codemirror_mode": {
    "name": "ipython",
    "version": 3
   },
   "file_extension": ".py",
   "mimetype": "text/x-python",
   "name": "python",
   "nbconvert_exporter": "python",
   "pygments_lexer": "ipython3",
   "version": "3.7.1"
  }
 },
 "nbformat": 4,
 "nbformat_minor": 2
}
