{
 "cells": [
  {
   "cell_type": "code",
   "execution_count": 1,
   "metadata": {},
   "outputs": [],
   "source": [
    "import pymysql.cursors\n",
    "import pandas as pd\n",
    "from pandas.io import sql\n",
    "from sqlalchemy import create_engine\n",
    "from sqlalchemy.sql import text"
   ]
  },
  {
   "cell_type": "code",
   "execution_count": 2,
   "metadata": {},
   "outputs": [],
   "source": [
    "connect_string = 'mysql+pymysql://{}:{}@{}:{}/{}?charset=utf8mb4'.format(\n",
    "    'root', 'password', 'localhost', '3306', 'rec_engine')\n",
    "engine = create_engine(connect_string, convert_unicode = True, echo = False)\n",
    "con = engine.connect()"
   ]
  },
  {
   "cell_type": "code",
   "execution_count": 8,
   "metadata": {},
   "outputs": [],
   "source": [
    "item = pd.read_csv('item.csv')\n",
    "agg = pd.read_csv('agg.csv')"
   ]
  },
  {
   "cell_type": "code",
   "execution_count": 9,
   "metadata": {},
   "outputs": [
    {
     "data": {
      "text/html": [
       "<div>\n",
       "<style scoped>\n",
       "    .dataframe tbody tr th:only-of-type {\n",
       "        vertical-align: middle;\n",
       "    }\n",
       "\n",
       "    .dataframe tbody tr th {\n",
       "        vertical-align: top;\n",
       "    }\n",
       "\n",
       "    .dataframe thead th {\n",
       "        text-align: right;\n",
       "    }\n",
       "</style>\n",
       "<table border=\"1\" class=\"dataframe\">\n",
       "  <thead>\n",
       "    <tr style=\"text-align: right;\">\n",
       "      <th></th>\n",
       "      <th>item</th>\n",
       "    </tr>\n",
       "  </thead>\n",
       "  <tbody>\n",
       "    <tr>\n",
       "      <th>0</th>\n",
       "      <td>aluminum foil</td>\n",
       "    </tr>\n",
       "    <tr>\n",
       "      <th>1</th>\n",
       "      <td>apples</td>\n",
       "    </tr>\n",
       "    <tr>\n",
       "      <th>2</th>\n",
       "      <td>baby items</td>\n",
       "    </tr>\n",
       "    <tr>\n",
       "      <th>3</th>\n",
       "      <td>bagels</td>\n",
       "    </tr>\n",
       "    <tr>\n",
       "      <th>4</th>\n",
       "      <td>bananas</td>\n",
       "    </tr>\n",
       "  </tbody>\n",
       "</table>\n",
       "</div>"
      ],
      "text/plain": [
       "            item\n",
       "0  aluminum foil\n",
       "1         apples\n",
       "2     baby items\n",
       "3         bagels\n",
       "4        bananas"
      ]
     },
     "execution_count": 9,
     "metadata": {},
     "output_type": "execute_result"
    }
   ],
   "source": [
    "item.head()"
   ]
  },
  {
   "cell_type": "code",
   "execution_count": 10,
   "metadata": {},
   "outputs": [
    {
     "data": {
      "text/html": [
       "<div>\n",
       "<style scoped>\n",
       "    .dataframe tbody tr th:only-of-type {\n",
       "        vertical-align: middle;\n",
       "    }\n",
       "\n",
       "    .dataframe tbody tr th {\n",
       "        vertical-align: top;\n",
       "    }\n",
       "\n",
       "    .dataframe thead th {\n",
       "        text-align: right;\n",
       "    }\n",
       "</style>\n",
       "<table border=\"1\" class=\"dataframe\">\n",
       "  <thead>\n",
       "    <tr style=\"text-align: right;\">\n",
       "      <th></th>\n",
       "      <th>Item_name</th>\n",
       "      <th>user_id</th>\n",
       "      <th>count</th>\n",
       "    </tr>\n",
       "  </thead>\n",
       "  <tbody>\n",
       "    <tr>\n",
       "      <th>0</th>\n",
       "      <td>aluminum foil</td>\n",
       "      <td>47</td>\n",
       "      <td>1</td>\n",
       "    </tr>\n",
       "    <tr>\n",
       "      <th>1</th>\n",
       "      <td>aluminum foil</td>\n",
       "      <td>113</td>\n",
       "      <td>1</td>\n",
       "    </tr>\n",
       "    <tr>\n",
       "      <th>2</th>\n",
       "      <td>aluminum foil</td>\n",
       "      <td>527</td>\n",
       "      <td>1</td>\n",
       "    </tr>\n",
       "    <tr>\n",
       "      <th>3</th>\n",
       "      <td>aluminum foil</td>\n",
       "      <td>553</td>\n",
       "      <td>2</td>\n",
       "    </tr>\n",
       "    <tr>\n",
       "      <th>4</th>\n",
       "      <td>aluminum foil</td>\n",
       "      <td>613</td>\n",
       "      <td>1</td>\n",
       "    </tr>\n",
       "  </tbody>\n",
       "</table>\n",
       "</div>"
      ],
      "text/plain": [
       "       Item_name  user_id  count\n",
       "0  aluminum foil       47      1\n",
       "1  aluminum foil      113      1\n",
       "2  aluminum foil      527      1\n",
       "3  aluminum foil      553      2\n",
       "4  aluminum foil      613      1"
      ]
     },
     "execution_count": 10,
     "metadata": {},
     "output_type": "execute_result"
    }
   ],
   "source": [
    "agg.head()"
   ]
  },
  {
   "cell_type": "code",
   "execution_count": 11,
   "metadata": {},
   "outputs": [],
   "source": [
    "item.to_sql(name = 'ITEM', con = con, if_exists = 'append', index = False)"
   ]
  },
  {
   "cell_type": "code",
   "execution_count": 12,
   "metadata": {},
   "outputs": [],
   "source": [
    "agg.to_sql(name = 'AGG', con = con, if_exists = 'append', index = False)"
   ]
  },
  {
   "cell_type": "code",
   "execution_count": 3,
   "metadata": {},
   "outputs": [],
   "source": [
    "# running the recommendation search for user-18710\n",
    "def exec_query():\n",
    "    with engine.connect() as con:\n",
    "        result = con.execute(\n",
    "            'SELECT item.item AS Recommendation, count(1) AS Frequency ' +\n",
    "            'FROM item, agg, (SELECT agg3.item_name, agg3.user_id ' +\n",
    "            'FROM agg agg, agg agg2, agg agg3 '+\n",
    "            'WHERE agg.user_id = \"18710\" ' +\n",
    "            'AND agg.item_name = agg2.item_name ' +\n",
    "            'AND agg2.user_id != \"18710\" ' +\n",
    "            'AND agg3.user_id = agg2.user_id ' +\n",
    "            'AND agg3.user_id NOT IN ( ' +\n",
    "                'SELECT DISTINCT item_name ' +\n",
    "                'FROM  agg agg ' +\n",
    "                'WHERE agg.user_id = \"18710\") ' +\n",
    "            ') recommended_products ' +\n",
    "            'WHERE agg.item_name = item.item ' +\n",
    "            'AND agg.item_name IN (recommended_products.item_name) ' +\n",
    "            'AND agg.user_id = recommended_products.user_id ' +\n",
    "            'GROUP BY item.item ' +\n",
    "            'ORDER BY Frequency desc;'\n",
    "        )"
   ]
  },
  {
   "cell_type": "code",
   "execution_count": 4,
   "metadata": {},
   "outputs": [
    {
     "name": "stdout",
     "output_type": "stream",
     "text": [
      "CPU times: user 3.94 ms, sys: 2.3 ms, total: 6.23 ms\n",
      "Wall time: 26.3 s\n",
      "CPU times: user 2.84 ms, sys: 661 µs, total: 3.5 ms\n",
      "Wall time: 26.4 s\n",
      "CPU times: user 2.21 ms, sys: 594 µs, total: 2.8 ms\n",
      "Wall time: 27 s\n",
      "CPU times: user 2.43 ms, sys: 582 µs, total: 3.01 ms\n",
      "Wall time: 26.9 s\n",
      "CPU times: user 2.58 ms, sys: 678 µs, total: 3.26 ms\n",
      "Wall time: 28.2 s\n",
      "CPU times: user 2.24 ms, sys: 565 µs, total: 2.81 ms\n",
      "Wall time: 26 s\n",
      "CPU times: user 2.1 ms, sys: 514 µs, total: 2.62 ms\n",
      "Wall time: 26.5 s\n",
      "CPU times: user 1.98 ms, sys: 463 µs, total: 2.45 ms\n",
      "Wall time: 26.7 s\n",
      "CPU times: user 1.98 ms, sys: 476 µs, total: 2.46 ms\n",
      "Wall time: 26.3 s\n",
      "CPU times: user 2.11 ms, sys: 587 µs, total: 2.7 ms\n",
      "Wall time: 26.9 s\n"
     ]
    }
   ],
   "source": [
    "for i in range(10):\n",
    "    %time exec_query()"
   ]
  },
  {
   "cell_type": "code",
   "execution_count": null,
   "metadata": {},
   "outputs": [],
   "source": []
  }
 ],
 "metadata": {
  "kernelspec": {
   "display_name": "Python 3",
   "language": "python",
   "name": "python3"
  },
  "language_info": {
   "codemirror_mode": {
    "name": "ipython",
    "version": 3
   },
   "file_extension": ".py",
   "mimetype": "text/x-python",
   "name": "python",
   "nbconvert_exporter": "python",
   "pygments_lexer": "ipython3",
   "version": "3.7.1"
  }
 },
 "nbformat": 4,
 "nbformat_minor": 2
}
